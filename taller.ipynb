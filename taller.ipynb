{
 "cells": [
  {
   "cell_type": "code",
   "execution_count": 1,
   "metadata": {},
   "outputs": [],
   "source": [
    "import pandas as pd"
   ]
  },
  {
   "cell_type": "code",
   "execution_count": 9,
   "metadata": {},
   "outputs": [],
   "source": [
    "def pregunta_01():\n",
    "    \"\"\"\n",
    "    En esta función se realiza la carga de datos.\n",
    "    \"\"\"\n",
    "    # Lea el archivo `mushrooms.csv` y asignelo al DataFrame `df`\n",
    "    df = pd.read_csv(\"mushrooms.csv\")\n",
    "\n",
    "    # Remueva la columna `veil-type` del DataFrame `df`.\n",
    "    # Esta columna tiene un valor constante y no sirve para la detección de hongos.\n",
    "    df = df.drop(\"veil_type\", axis=1)\n",
    "\n",
    "    # Asigne la columna `type` a la variable `y`.\n",
    "    y = df[\"type\"]\n",
    "\n",
    "    # Asigne una copia del dataframe `df` a la variable `X`.\n",
    "    X = df.copy()\n",
    "\n",
    "    # Remueva la columna `type` del DataFrame `X`.\n",
    "    X = X.drop(\"type\", axis=1)\n",
    "\n",
    "    # Retorne `X` y `y`\n",
    "    return X, y"
   ]
  },
  {
   "cell_type": "code",
   "execution_count": 10,
   "metadata": {},
   "outputs": [
    {
     "name": "stdout",
     "output_type": "stream",
     "text": [
      "(8124, 21)\n",
      "(8124,)\n",
      "Index(['cap_shape', 'cap_surface', 'cap_color', 'bruises', 'odor',\n",
      "       'gill_attachment', 'gill_spacing', 'gill_size', 'gill_color',\n",
      "       'stalk_shape', 'stalk_root', 'stalk_surface_above_ring',\n",
      "       'stalk_surface_below_ring', 'stalk_color_above_ring',\n",
      "       'stalk_color_below_ring', 'veil_color', 'ring_number', 'ring_type',\n",
      "       'spore_print_color', 'population', 'habitat'],\n",
      "      dtype='object')\n"
     ]
    }
   ],
   "source": [
    "X, y = pregunta_01()\n",
    "\n",
    "print(X.shape)\n",
    "print(y.shape)\n",
    "print(X.columns)"
   ]
  },
  {
   "cell_type": "code",
   "execution_count": 11,
   "metadata": {},
   "outputs": [],
   "source": [
    "\n",
    "def pregunta_02():\n",
    "    \"\"\"\n",
    "    Preparación del dataset.\n",
    "    \"\"\"\n",
    "\n",
    "    # Importe train_test_split\n",
    "    from sklearn.model_selection import train_test_split\n",
    "\n",
    "    # Cargue los datos de ejemplo y asigne los resultados a `X` y `y`.\n",
    "    X, y = pregunta_01()\n",
    "\n",
    "    # Divida los datos de entrenamiento y prueba. La semilla del generador de números\n",
    "    # aleatorios es 123. Use 50 patrones para la muestra de prueba.\n",
    "    (X_train, X_test, y_train, y_test,) = train_test_split(\n",
    "        X,\n",
    "        y,\n",
    "        test_size=50,\n",
    "        random_state=123,\n",
    "    )\n",
    "\n",
    "    # Retorne `X_train`, `X_test`, `y_train` y `y_test`\n",
    "    return X_train, X_test, y_train, y_test\n"
   ]
  },
  {
   "cell_type": "code",
   "execution_count": 12,
   "metadata": {},
   "outputs": [
    {
     "name": "stdout",
     "output_type": "stream",
     "text": [
      "{'e': 4179, 'p': 3895}\n",
      "{'e': 29, 'p': 21}\n",
      "{'x': 3628, 'f': 3139, 'k': 823, 'b': 448, 's': 32, 'c': 4}\n",
      "{'y': 3219, 's': 2542, 'f': 2309, 'g': 4}\n",
      "{'y': 25, 's': 14, 'f': 11}\n"
     ]
    }
   ],
   "source": [
    "X_train, X_test, y_train, y_test = pregunta_02()\n",
    "\n",
    "print(y_train.value_counts().to_dict())\n",
    "print(y_test.value_counts().to_dict())\n",
    "print(X_train.iloc[:, 0].value_counts().to_dict())\n",
    "print(X_train.iloc[:, 1].value_counts().to_dict())\n",
    "print(X_test.iloc[:, 1].value_counts().to_dict())\n",
    "\n"
   ]
  },
  {
   "cell_type": "code",
   "execution_count": 14,
   "metadata": {},
   "outputs": [],
   "source": [
    "\n",
    "def pregunta_03():\n",
    "    \"\"\"\n",
    "    Especificación y entrenamiento del modelo. En sklearn, el modelo de regresión\n",
    "    logística (a diferencia del modelo implementado normalmente en estadística) tiene\n",
    "    un hiperparámetro de regularición llamado `Cs`. Consulte la documentación.\n",
    "\n",
    "    Para encontrar el valor óptimo de Cs se puede usar LogisticRegressionCV.\n",
    "\n",
    "    Ya que las variables explicativas son literales, resulta más conveniente usar un\n",
    "    pipeline.\n",
    "    \"\"\"\n",
    "\n",
    "    # Importe LogisticRegressionCV\n",
    "    # Importe OneHotEncoder\n",
    "    # Importe Pipeline\n",
    "    from sklearn.linear_model import LogisticRegressionCV\n",
    "    from sklearn.preprocessing import OneHotEncoder\n",
    "    from sklearn.pipeline import Pipeline\n",
    "\n",
    "    # Cargue las variables.\n",
    "    X_train, _, y_train, _ = pregunta_02()\n",
    "\n",
    "    # Cree un pipeline que contenga un estimador OneHotEncoder y un estimador\n",
    "    # LogisticRegression con una regularización Cs=10\n",
    "    pipeline = Pipeline(\n",
    "        steps=[\n",
    "            (\"ohe\", OneHotEncoder()),\n",
    "            (\"logistic\", LogisticRegressionCV(Cs=10)),\n",
    "        ],\n",
    "    )\n",
    "\n",
    "    # Entrene el pipeline con los datos de entrenamiento.\n",
    "    pipeline.fit(X_train, y_train)\n",
    "\n",
    "    # Retorne el pipeline entrenado\n",
    "    return pipeline\n"
   ]
  },
  {
   "cell_type": "code",
   "execution_count": 15,
   "metadata": {},
   "outputs": [
    {
     "name": "stdout",
     "output_type": "stream",
     "text": [
      "1.0\n",
      "1.0\n"
     ]
    }
   ],
   "source": [
    "X_train, X_test, y_train, y_test = pregunta_02()\n",
    "pipeline = pregunta_03()\n",
    "\n",
    "print(pipeline.score(X_train, y_train).round(6))\n",
    "print(pipeline.score(X_test, y_test).round(6))"
   ]
  },
  {
   "cell_type": "code",
   "execution_count": 18,
   "metadata": {},
   "outputs": [],
   "source": [
    "\n",
    "def pregunta_04():\n",
    "    \"\"\"\n",
    "    Evalue el modelo obtenido.\n",
    "    \"\"\"\n",
    "\n",
    "    # Importe confusion_matrix\n",
    "    from sklearn.metrics import confusion_matrix\n",
    "\n",
    "    # Obtenga el pipeline de la pregunta 3.\n",
    "    pipeline = pregunta_03()\n",
    "\n",
    "    # Cargue las variables.\n",
    "    X_train, X_test, y_train, y_test = pregunta_02()\n",
    "\n",
    "    # Evalúe el pipeline con los datos de entrenamiento usando la matriz de confusion.\n",
    "    cfm_train = confusion_matrix(\n",
    "        y_true=y_train,\n",
    "        y_pred=pipeline.predict(X_train),\n",
    "    )\n",
    "\n",
    "    cfm_test = confusion_matrix(\n",
    "        y_true=y_test,\n",
    "        y_pred=pipeline.predict(X_test),\n",
    "    )\n",
    "\n",
    "    # Retorne la matriz de confusion de entrenamiento y prueba\n",
    "    return cfm_train, cfm_test\n"
   ]
  },
  {
   "cell_type": "code",
   "execution_count": 19,
   "metadata": {},
   "outputs": [
    {
     "name": "stdout",
     "output_type": "stream",
     "text": [
      "[[4179, 0], [0, 3895]]\n",
      "[[29, 0], [0, 21]]\n"
     ]
    }
   ],
   "source": [
    "cfm_train, cfm_test = pregunta_04()\n",
    "\n",
    "print(cfm_train.tolist())\n",
    "print(cfm_test.tolist())\n"
   ]
  },
  {
   "cell_type": "code",
   "execution_count": null,
   "metadata": {},
   "outputs": [],
   "source": []
  }
 ],
 "metadata": {
  "kernelspec": {
   "display_name": "Python 3.9.12 ('dsbasics')",
   "language": "python",
   "name": "python3"
  },
  "language_info": {
   "codemirror_mode": {
    "name": "ipython",
    "version": 3
   },
   "file_extension": ".py",
   "mimetype": "text/x-python",
   "name": "python",
   "nbconvert_exporter": "python",
   "pygments_lexer": "ipython3",
   "version": "3.9.12"
  },
  "orig_nbformat": 4,
  "vscode": {
   "interpreter": {
    "hash": "fdef10015e310e18bb1b03c6e2d154ddadec9c59a1fe30b9a7c0b13350d0b918"
   }
  }
 },
 "nbformat": 4,
 "nbformat_minor": 2
}
